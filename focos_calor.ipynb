{
 "cells": [
  {
   "cell_type": "markdown",
   "id": "024daead",
   "metadata": {},
   "source": [
    "# Análise dos focos de calor de 1998 a 2019"
   ]
  },
  {
   "cell_type": "code",
   "execution_count": 61,
   "id": "2e058888",
   "metadata": {},
   "outputs": [],
   "source": [
    "# Importando as bibliotecas\n",
    "import pandas as pd"
   ]
  },
  {
   "cell_type": "code",
   "execution_count": 28,
   "id": "c136d12c",
   "metadata": {},
   "outputs": [
    {
     "data": {
      "text/plain": [
       "(325, 4)"
      ]
     },
     "execution_count": 28,
     "metadata": {},
     "output_type": "execute_result"
    }
   ],
   "source": [
    "# Carregando o arquivo csv\n",
    "df = pd.read_excel('focos_calor_1998_2019.xlsx')\n",
    "\n",
    "# Quantidade de linhas e colunas\n",
    "df.shape"
   ]
  },
  {
   "cell_type": "code",
   "execution_count": 29,
   "id": "f6baf96a",
   "metadata": {},
   "outputs": [
    {
     "data": {
      "text/html": [
       "<div>\n",
       "<style scoped>\n",
       "    .dataframe tbody tr th:only-of-type {\n",
       "        vertical-align: middle;\n",
       "    }\n",
       "\n",
       "    .dataframe tbody tr th {\n",
       "        vertical-align: top;\n",
       "    }\n",
       "\n",
       "    .dataframe thead th {\n",
       "        text-align: right;\n",
       "    }\n",
       "</style>\n",
       "<table border=\"1\" class=\"dataframe\">\n",
       "  <thead>\n",
       "    <tr style=\"text-align: right;\">\n",
       "      <th></th>\n",
       "      <th>Ano</th>\n",
       "      <th>Mês</th>\n",
       "      <th>Número</th>\n",
       "      <th>Período</th>\n",
       "    </tr>\n",
       "  </thead>\n",
       "  <tbody>\n",
       "    <tr>\n",
       "      <th>0</th>\n",
       "      <td>1998</td>\n",
       "      <td>Janeiro</td>\n",
       "      <td>0</td>\n",
       "      <td>1998-01-01 00:00:00</td>\n",
       "    </tr>\n",
       "    <tr>\n",
       "      <th>1</th>\n",
       "      <td>1999</td>\n",
       "      <td>Janeiro</td>\n",
       "      <td>1081</td>\n",
       "      <td>1999-01-01 00:00:00</td>\n",
       "    </tr>\n",
       "    <tr>\n",
       "      <th>2</th>\n",
       "      <td>2000</td>\n",
       "      <td>Janeiro</td>\n",
       "      <td>778</td>\n",
       "      <td>2000-01-01 00:00:00</td>\n",
       "    </tr>\n",
       "    <tr>\n",
       "      <th>3</th>\n",
       "      <td>2001</td>\n",
       "      <td>Janeiro</td>\n",
       "      <td>547</td>\n",
       "      <td>2001-01-01 00:00:00</td>\n",
       "    </tr>\n",
       "    <tr>\n",
       "      <th>4</th>\n",
       "      <td>2002</td>\n",
       "      <td>Janeiro</td>\n",
       "      <td>1653</td>\n",
       "      <td>2002-01-01 00:00:00</td>\n",
       "    </tr>\n",
       "  </tbody>\n",
       "</table>\n",
       "</div>"
      ],
      "text/plain": [
       "    Ano      Mês  Número              Período\n",
       "0  1998  Janeiro       0  1998-01-01 00:00:00\n",
       "1  1999  Janeiro    1081  1999-01-01 00:00:00\n",
       "2  2000  Janeiro     778  2000-01-01 00:00:00\n",
       "3  2001  Janeiro     547  2001-01-01 00:00:00\n",
       "4  2002  Janeiro    1653  2002-01-01 00:00:00"
      ]
     },
     "execution_count": 29,
     "metadata": {},
     "output_type": "execute_result"
    }
   ],
   "source": [
    "# Visualizando as 5 primeiras linhas\n",
    "df.head()"
   ]
  },
  {
   "cell_type": "code",
   "execution_count": 30,
   "id": "8f7c3cef",
   "metadata": {},
   "outputs": [],
   "source": [
    "# Eliminar as colunas indesejáveis\n",
    "# df = df['Ano', 'Mês', 'Número', 'Período']"
   ]
  },
  {
   "cell_type": "code",
   "execution_count": 31,
   "id": "d65b082a",
   "metadata": {},
   "outputs": [
    {
     "name": "stdout",
     "output_type": "stream",
     "text": [
      "<class 'pandas.core.frame.DataFrame'>\n",
      "RangeIndex: 325 entries, 0 to 324\n",
      "Data columns (total 4 columns):\n",
      " #   Column   Non-Null Count  Dtype \n",
      "---  ------   --------------  ----- \n",
      " 0   Ano      325 non-null    object\n",
      " 1   Mês      325 non-null    object\n",
      " 2   Número   325 non-null    int64 \n",
      " 3   Período  325 non-null    object\n",
      "dtypes: int64(1), object(3)\n",
      "memory usage: 10.3+ KB\n"
     ]
    }
   ],
   "source": [
    "# Quantidades e tipos\n",
    "df.info()"
   ]
  },
  {
   "cell_type": "code",
   "execution_count": 32,
   "id": "c6008a43",
   "metadata": {},
   "outputs": [
    {
     "data": {
      "text/plain": [
       "394004"
      ]
     },
     "execution_count": 32,
     "metadata": {},
     "output_type": "execute_result"
    }
   ],
   "source": [
    "# Qual a maior quantidade de focos de calor?\n",
    "df['Número'].max()"
   ]
  },
  {
   "cell_type": "code",
   "execution_count": 33,
   "id": "caecd48a",
   "metadata": {},
   "outputs": [
    {
     "data": {
      "text/html": [
       "<div>\n",
       "<style scoped>\n",
       "    .dataframe tbody tr th:only-of-type {\n",
       "        vertical-align: middle;\n",
       "    }\n",
       "\n",
       "    .dataframe tbody tr th {\n",
       "        vertical-align: top;\n",
       "    }\n",
       "\n",
       "    .dataframe thead th {\n",
       "        text-align: right;\n",
       "    }\n",
       "</style>\n",
       "<table border=\"1\" class=\"dataframe\">\n",
       "  <thead>\n",
       "    <tr style=\"text-align: right;\">\n",
       "      <th></th>\n",
       "      <th>Ano</th>\n",
       "      <th>Mês</th>\n",
       "      <th>Número</th>\n",
       "      <th>Período</th>\n",
       "    </tr>\n",
       "  </thead>\n",
       "  <tbody>\n",
       "    <tr>\n",
       "      <th>309</th>\n",
       "      <td>2007</td>\n",
       "      <td>Total</td>\n",
       "      <td>394004</td>\n",
       "      <td>2007-12-01 00:00:00</td>\n",
       "    </tr>\n",
       "    <tr>\n",
       "      <th>322</th>\n",
       "      <td>Máximo</td>\n",
       "      <td>Total</td>\n",
       "      <td>394004</td>\n",
       "      <td>Máximo</td>\n",
       "    </tr>\n",
       "  </tbody>\n",
       "</table>\n",
       "</div>"
      ],
      "text/plain": [
       "        Ano    Mês  Número              Período\n",
       "309    2007  Total  394004  2007-12-01 00:00:00\n",
       "322  Máximo  Total  394004               Máximo"
      ]
     },
     "execution_count": 33,
     "metadata": {},
     "output_type": "execute_result"
    }
   ],
   "source": [
    "# Qual Mês/Ano teve a maior quantidade de focos de calor?\n",
    "df[df['Número'] == df['Número'].max()]"
   ]
  },
  {
   "cell_type": "markdown",
   "id": "cb0598da",
   "metadata": {},
   "source": [
    "### Eliminando linhas indesejáveis"
   ]
  },
  {
   "cell_type": "code",
   "execution_count": 34,
   "id": "b99d8ac1",
   "metadata": {},
   "outputs": [],
   "source": [
    "# Manter todos as linhas onde Mês != 'Total'\n",
    "df = df[df['Mês'] != 'Total']\n",
    "\n",
    "# Manter todas as linhas onde Ano != 'Máximo', 'Média', 'Minímo'\n",
    "df = df[df['Ano'] != 'Máximo']\n",
    "df = df[df['Ano'] != 'Média']\n",
    "df = df[df['Ano'] != 'Mínimo']"
   ]
  },
  {
   "cell_type": "code",
   "execution_count": 35,
   "id": "588f8976",
   "metadata": {},
   "outputs": [
    {
     "data": {
      "text/html": [
       "<div>\n",
       "<style scoped>\n",
       "    .dataframe tbody tr th:only-of-type {\n",
       "        vertical-align: middle;\n",
       "    }\n",
       "\n",
       "    .dataframe tbody tr th {\n",
       "        vertical-align: top;\n",
       "    }\n",
       "\n",
       "    .dataframe thead th {\n",
       "        text-align: right;\n",
       "    }\n",
       "</style>\n",
       "<table border=\"1\" class=\"dataframe\">\n",
       "  <thead>\n",
       "    <tr style=\"text-align: right;\">\n",
       "      <th></th>\n",
       "      <th>Ano</th>\n",
       "      <th>Mês</th>\n",
       "      <th>Número</th>\n",
       "      <th>Período</th>\n",
       "    </tr>\n",
       "  </thead>\n",
       "  <tbody>\n",
       "    <tr>\n",
       "      <th>209</th>\n",
       "      <td>2007</td>\n",
       "      <td>Setembro</td>\n",
       "      <td>141236</td>\n",
       "      <td>2007-09-01 00:00:00</td>\n",
       "    </tr>\n",
       "  </tbody>\n",
       "</table>\n",
       "</div>"
      ],
      "text/plain": [
       "      Ano       Mês  Número              Período\n",
       "209  2007  Setembro  141236  2007-09-01 00:00:00"
      ]
     },
     "execution_count": 35,
     "metadata": {},
     "output_type": "execute_result"
    }
   ],
   "source": [
    "# Qual Mês/Ano teve a maior quantidade de focos de calor?\n",
    "df[df['Número'] == df['Número'].max()]"
   ]
  },
  {
   "cell_type": "markdown",
   "id": "5854db39",
   "metadata": {},
   "source": [
    "### Gráficos"
   ]
  },
  {
   "cell_type": "code",
   "execution_count": 62,
   "id": "ff72c2fd",
   "metadata": {},
   "outputs": [],
   "source": [
    "# Biblioteca para criação de gráficos\n",
    "import matplotlib.pyplot as plt"
   ]
  },
  {
   "cell_type": "code",
   "execution_count": 42,
   "id": "9704d998",
   "metadata": {},
   "outputs": [
    {
     "data": {
      "text/html": [
       "<div>\n",
       "<style scoped>\n",
       "    .dataframe tbody tr th:only-of-type {\n",
       "        vertical-align: middle;\n",
       "    }\n",
       "\n",
       "    .dataframe tbody tr th {\n",
       "        vertical-align: top;\n",
       "    }\n",
       "\n",
       "    .dataframe thead th {\n",
       "        text-align: right;\n",
       "    }\n",
       "</style>\n",
       "<table border=\"1\" class=\"dataframe\">\n",
       "  <thead>\n",
       "    <tr style=\"text-align: right;\">\n",
       "      <th></th>\n",
       "      <th>Ano</th>\n",
       "      <th>Mês</th>\n",
       "      <th>Número</th>\n",
       "      <th>Período</th>\n",
       "    </tr>\n",
       "  </thead>\n",
       "  <tbody>\n",
       "    <tr>\n",
       "      <th>9</th>\n",
       "      <td>2007</td>\n",
       "      <td>Janeiro</td>\n",
       "      <td>4223</td>\n",
       "      <td>2007-01-01 00:00:00</td>\n",
       "    </tr>\n",
       "    <tr>\n",
       "      <th>34</th>\n",
       "      <td>2007</td>\n",
       "      <td>Fevereiro</td>\n",
       "      <td>2764</td>\n",
       "      <td>2007-02-01 00:00:00</td>\n",
       "    </tr>\n",
       "    <tr>\n",
       "      <th>59</th>\n",
       "      <td>2007</td>\n",
       "      <td>Março</td>\n",
       "      <td>3342</td>\n",
       "      <td>2007-03-01 00:00:00</td>\n",
       "    </tr>\n",
       "    <tr>\n",
       "      <th>84</th>\n",
       "      <td>2007</td>\n",
       "      <td>Abril</td>\n",
       "      <td>2557</td>\n",
       "      <td>2007-04-01 00:00:00</td>\n",
       "    </tr>\n",
       "    <tr>\n",
       "      <th>109</th>\n",
       "      <td>2007</td>\n",
       "      <td>Maio</td>\n",
       "      <td>5130</td>\n",
       "      <td>2007-05-01 00:00:00</td>\n",
       "    </tr>\n",
       "    <tr>\n",
       "      <th>134</th>\n",
       "      <td>2007</td>\n",
       "      <td>Junho</td>\n",
       "      <td>12724</td>\n",
       "      <td>2007-06-01 00:00:00</td>\n",
       "    </tr>\n",
       "    <tr>\n",
       "      <th>159</th>\n",
       "      <td>2007</td>\n",
       "      <td>Julho</td>\n",
       "      <td>19946</td>\n",
       "      <td>2007-07-01 00:00:00</td>\n",
       "    </tr>\n",
       "    <tr>\n",
       "      <th>184</th>\n",
       "      <td>2007</td>\n",
       "      <td>Agosto</td>\n",
       "      <td>91095</td>\n",
       "      <td>2007-08-01 00:00:00</td>\n",
       "    </tr>\n",
       "    <tr>\n",
       "      <th>209</th>\n",
       "      <td>2007</td>\n",
       "      <td>Setembro</td>\n",
       "      <td>141236</td>\n",
       "      <td>2007-09-01 00:00:00</td>\n",
       "    </tr>\n",
       "    <tr>\n",
       "      <th>234</th>\n",
       "      <td>2007</td>\n",
       "      <td>Outubro</td>\n",
       "      <td>67234</td>\n",
       "      <td>2007-10-01 00:00:00</td>\n",
       "    </tr>\n",
       "    <tr>\n",
       "      <th>259</th>\n",
       "      <td>2007</td>\n",
       "      <td>Novembro</td>\n",
       "      <td>31426</td>\n",
       "      <td>2007-11-01 00:00:00</td>\n",
       "    </tr>\n",
       "    <tr>\n",
       "      <th>284</th>\n",
       "      <td>2007</td>\n",
       "      <td>Dezembro</td>\n",
       "      <td>12327</td>\n",
       "      <td>2007-12-01 00:00:00</td>\n",
       "    </tr>\n",
       "  </tbody>\n",
       "</table>\n",
       "</div>"
      ],
      "text/plain": [
       "      Ano        Mês  Número              Período\n",
       "9    2007    Janeiro    4223  2007-01-01 00:00:00\n",
       "34   2007  Fevereiro    2764  2007-02-01 00:00:00\n",
       "59   2007      Março    3342  2007-03-01 00:00:00\n",
       "84   2007      Abril    2557  2007-04-01 00:00:00\n",
       "109  2007       Maio    5130  2007-05-01 00:00:00\n",
       "134  2007      Junho   12724  2007-06-01 00:00:00\n",
       "159  2007      Julho   19946  2007-07-01 00:00:00\n",
       "184  2007     Agosto   91095  2007-08-01 00:00:00\n",
       "209  2007   Setembro  141236  2007-09-01 00:00:00\n",
       "234  2007    Outubro   67234  2007-10-01 00:00:00\n",
       "259  2007   Novembro   31426  2007-11-01 00:00:00\n",
       "284  2007   Dezembro   12327  2007-12-01 00:00:00"
      ]
     },
     "execution_count": 42,
     "metadata": {},
     "output_type": "execute_result"
    }
   ],
   "source": [
    "# Selecionando somente os dados de 2007\n",
    "df_2007 = df[df['Ano'] == 2007].copy()\n",
    "df_2007"
   ]
  },
  {
   "cell_type": "code",
   "execution_count": 43,
   "id": "5a02704a",
   "metadata": {},
   "outputs": [
    {
     "data": {
      "text/plain": [
       "<AxesSubplot:xlabel='Mês'>"
      ]
     },
     "execution_count": 43,
     "metadata": {},
     "output_type": "execute_result"
    },
    {
     "data": {
      "image/png": "[encoded data removed]",
      "text/plain": [
       "<Figure size 432x288 with 1 Axes>"
      ]
     },
     "metadata": {
      "needs_background": "light"
     },
     "output_type": "display_data"
    }
   ],
   "source": [
    "# Gráfico de linha (gráfico padrão)\n",
    "df_2007.plot(x='Mês', y='Número')"
   ]
  },
  {
   "cell_type": "code",
   "execution_count": 41,
   "id": "55629a24",
   "metadata": {},
   "outputs": [
    {
     "data": {
      "text/plain": [
       "<AxesSubplot:xlabel='Mês'>"
      ]
     },
     "execution_count": 41,
     "metadata": {},
     "output_type": "execute_result"
    },
    {
     "data": {
      "image/png": "[encoded data removed]",
      "text/plain": [
       "<Figure size 432x288 with 1 Axes>"
      ]
     },
     "metadata": {
      "needs_background": "light"
     },
     "output_type": "display_data"
    }
   ],
   "source": [
    "# Gráfico de Barras\n",
    "df_2007.plot.bar(x='Mês', y='Número')"
   ]
  },
  {
   "cell_type": "code",
   "execution_count": 44,
   "id": "6ef4abcf",
   "metadata": {},
   "outputs": [
    {
     "data": {
      "text/plain": [
       "<AxesSubplot:ylabel='Número'>"
      ]
     },
     "execution_count": 44,
     "metadata": {},
     "output_type": "execute_result"
    },
    {
     "data": {
      "image/png": "[encoded data removed]",
      "text/plain": [
       "<Figure size 432x288 with 1 Axes>"
      ]
     },
     "metadata": {},
     "output_type": "display_data"
    }
   ],
   "source": [
    "# Gráfico de Pizza (Não é recomendado)\n",
    "df_2007.plot.pie(x='Mês', y='Número')"
   ]
  },
  {
   "cell_type": "markdown",
   "id": "d0f65d06",
   "metadata": {},
   "source": [
    "### Gráfico com os focos de calor de 2016, 2017 e 2018"
   ]
  },
  {
   "cell_type": "code",
   "execution_count": 60,
   "id": "645ab14a",
   "metadata": {},
   "outputs": [
    {
     "data": {
      "text/plain": [
       "([0, 1, 2, 3, 4, 5, 6, 7, 8, 9, 10, 11],\n",
       " [Text(0, 0, ''),\n",
       "  Text(0, 0, ''),\n",
       "  Text(0, 0, ''),\n",
       "  Text(0, 0, ''),\n",
       "  Text(0, 0, ''),\n",
       "  Text(0, 0, ''),\n",
       "  Text(0, 0, ''),\n",
       "  Text(0, 0, ''),\n",
       "  Text(0, 0, ''),\n",
       "  Text(0, 0, ''),\n",
       "  Text(0, 0, ''),\n",
       "  Text(0, 0, '')])"
      ]
     },
     "execution_count": 60,
     "metadata": {},
     "output_type": "execute_result"
    },
    {
     "data": {
      "image/png": "[encoded data removed]",
      "text/plain": [
       "<Figure size 432x288 with 1 Axes>"
      ]
     },
     "metadata": {
      "needs_background": "light"
     },
     "output_type": "display_data"
    }
   ],
   "source": [
    "# Gráfico por ano, precisamos selecionar os dados\n",
    "\n",
    "# 2016\n",
    "# df_2007 = df[df['Ano'] == 2007].copy()\n",
    "plt.plot('Mês', 'Número', data=df[df['Ano'] == 2016], label=\"2016\")\n",
    "\n",
    "# 2017\n",
    "# df_2007 = df[df['Ano'] == 2007].copy()\n",
    "plt.plot('Mês', 'Número', data=df[df['Ano'] == 2017], label=\"2017\")\n",
    "\n",
    "# 2018\n",
    "# df_2007 = df[df['Ano'] == 2007].copy()\n",
    "plt.plot('Mês', 'Número', data=df[df['Ano'] == 2018], label=\"2018\")\n",
    "\n",
    "# Exibir as legendas\n",
    "plt.legend()\n",
    "\n",
    "# Título\n",
    "plt.title('Focos de Calor - 2016, 2017 e 2018', fontsize=16)\n",
    "\n",
    "# Nome dos eixos\n",
    "plt.xlabel('Mês')\n",
    "plt.ylabel('Quantidade')\n",
    "plt.xticks(rotation=60)"
   ]
  },
  {
   "cell_type": "markdown",
   "id": "01cbbb9f",
   "metadata": {},
   "source": [
    "### Trabalhando com uma biblioteca mais específica para gráficos"
   ]
  },
  {
   "cell_type": "code",
   "execution_count": 63,
   "id": "7fa43690",
   "metadata": {},
   "outputs": [],
   "source": [
    "# Importando outra biblioteca para criação de gráficos\n",
    "import seaborn as sns"
   ]
  },
  {
   "cell_type": "code",
   "execution_count": 65,
   "id": "bb8e3714",
   "metadata": {},
   "outputs": [
    {
     "data": {
      "text/plain": [
       "(array([ 0,  1,  2,  3,  4,  5,  6,  7,  8,  9, 10, 11]),\n",
       " [Text(0, 0, 'Janeiro'),\n",
       "  Text(1, 0, 'Fevereiro'),\n",
       "  Text(2, 0, 'Março'),\n",
       "  Text(3, 0, 'Abril'),\n",
       "  Text(4, 0, 'Maio'),\n",
       "  Text(5, 0, 'Junho'),\n",
       "  Text(6, 0, 'Julho'),\n",
       "  Text(7, 0, 'Agosto'),\n",
       "  Text(8, 0, 'Setembro'),\n",
       "  Text(9, 0, 'Outubro'),\n",
       "  Text(10, 0, 'Novembro'),\n",
       "  Text(11, 0, 'Dezembro')])"
      ]
     },
     "execution_count": 65,
     "metadata": {},
     "output_type": "execute_result"
    },
    {
     "data": {
      "image/png": "[encoded data removed]",
      "text/plain": [
       "<Figure size 432x288 with 1 Axes>"
      ]
     },
     "metadata": {
      "needs_background": "light"
     },
     "output_type": "display_data"
    }
   ],
   "source": [
    "# Repetindo o gráfico de 2007 com seaborn\n",
    "sns.barplot(x='Mês', y='Número', data=df_2007)\n",
    "\n",
    "# Título\n",
    "plt.title('Focos de Calor - 2007', fontsize=16)\n",
    "\n",
    "# Nome dos eixos\n",
    "plt.xlabel('Mês')\n",
    "plt.ylabel('Quantidade')\n",
    "plt.xticks(rotation=60)"
   ]
  }
 ],
 "metadata": {
  "kernelspec": {
   "display_name": "Python 3 (ipykernel)",
   "language": "python",
   "name": "python3"
  },
  "language_info": {
   "codemirror_mode": {
    "name": "ipython",
    "version": 3
   },
   "file_extension": ".py",
   "mimetype": "text/x-python",
   "name": "python",
   "nbconvert_exporter": "python",
   "pygments_lexer": "ipython3",
   "version": "3.9.7"
  }
 },
 "nbformat": 4,
 "nbformat_minor": 5
}
