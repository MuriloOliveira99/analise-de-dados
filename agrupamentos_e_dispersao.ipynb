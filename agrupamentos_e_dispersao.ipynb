{
 "cells": [
  {
   "cell_type": "markdown",
   "id": "c71e353c",
   "metadata": {},
   "source": [
    "<h1>Atividade - Agrupamentos e Dispersão</h1>"
   ]
  },
  {
   "cell_type": "markdown",
   "id": "fa7737c8",
   "metadata": {},
   "source": [
    "<p>=============================================================================================================</p>"
   ]
  },
  {
   "cell_type": "markdown",
   "id": "a1b292ce",
   "metadata": {},
   "source": [
    "- Utilizando a base em anexo (glp-2021-02.csv):\n",
    "<ol>\n",
    "    <li>Análise completa sobre o describe</li>\n",
    "    <li>Fazer a amplitude interquartil do Valor de Venda e uma análise sobre o resultado apresentado</li>\n",
    "    <li>Fazer o coeficiente de variação e uma análise sobre ele</li>\n",
    "    <li>Fazer o agrupamento das top 10 bandeiras com a média do maior valor de venda</li>\n",
    "    <li>Fazer o agrupamento por estado e trazer os 5 estados com a média do maior valor de venda e os 5 estados com a média do menor valor de venda</li>\n",
    "    <li>Trazer o agrupamento por mês com a média de valor de venda por mês</li> \n",
    "</ol>\n",
    "\n",
    "\n",
    "\n",
    "\n"
   ]
  },
  {
   "cell_type": "markdown",
   "id": "a4924cf8",
   "metadata": {},
   "source": [
    "<p>=============================================================================================================</p>"
   ]
  },
  {
   "cell_type": "markdown",
   "id": "1b1d3693",
   "metadata": {},
   "source": [
    "<h3>Importando as bibliotecas</h3>"
   ]
  },
  {
   "cell_type": "code",
   "execution_count": 662,
   "id": "6fb9b3f8",
   "metadata": {},
   "outputs": [],
   "source": [
    "import pandas as pd\n",
    "import numpy as np"
   ]
  },
  {
   "cell_type": "markdown",
   "id": "4a63c519",
   "metadata": {},
   "source": [
    "<h3>Lendo o arquivo .csv com pandas</h3>"
   ]
  },
  {
   "cell_type": "code",
   "execution_count": 663,
   "id": "329e0020",
   "metadata": {},
   "outputs": [
    {
     "data": {
      "text/html": [
       "<div>\n",
       "<style scoped>\n",
       "    .dataframe tbody tr th:only-of-type {\n",
       "        vertical-align: middle;\n",
       "    }\n",
       "\n",
       "    .dataframe tbody tr th {\n",
       "        vertical-align: top;\n",
       "    }\n",
       "\n",
       "    .dataframe thead th {\n",
       "        text-align: right;\n",
       "    }\n",
       "</style>\n",
       "<table border=\"1\" class=\"dataframe\">\n",
       "  <thead>\n",
       "    <tr style=\"text-align: right;\">\n",
       "      <th></th>\n",
       "      <th>Regiao - Sigla</th>\n",
       "      <th>Estado - Sigla</th>\n",
       "      <th>Municipio</th>\n",
       "      <th>Revenda</th>\n",
       "      <th>CNPJ da Revenda</th>\n",
       "      <th>Nome da Rua</th>\n",
       "      <th>Numero Rua</th>\n",
       "      <th>Complemento</th>\n",
       "      <th>Bairro</th>\n",
       "      <th>Cep</th>\n",
       "      <th>Produto</th>\n",
       "      <th>Data da Coleta</th>\n",
       "      <th>Valor de Venda</th>\n",
       "      <th>Valor de Compra</th>\n",
       "      <th>Unidade de Medida</th>\n",
       "      <th>Bandeira</th>\n",
       "    </tr>\n",
       "  </thead>\n",
       "  <tbody>\n",
       "    <tr>\n",
       "      <th>0</th>\n",
       "      <td>NE</td>\n",
       "      <td>CE</td>\n",
       "      <td>MARACANAU</td>\n",
       "      <td>POSTO BOTO LTDA</td>\n",
       "      <td>03.020.995/0001-40</td>\n",
       "      <td>AVENIDA PADRE JOSE HOLANDA DO VALE</td>\n",
       "      <td>809</td>\n",
       "      <td>NaN</td>\n",
       "      <td>PIRATININGA</td>\n",
       "      <td>61905-000</td>\n",
       "      <td>GLP</td>\n",
       "      <td>01/07/2021</td>\n",
       "      <td>89,99</td>\n",
       "      <td>NaN</td>\n",
       "      <td>R$ / 13 kg</td>\n",
       "      <td>NACIONAL GÁS BUTANO</td>\n",
       "    </tr>\n",
       "    <tr>\n",
       "      <th>1</th>\n",
       "      <td>S</td>\n",
       "      <td>SC</td>\n",
       "      <td>JARAGUA DO SUL</td>\n",
       "      <td>POSTO CIDADE LTDA</td>\n",
       "      <td>81.352.882/0004-07</td>\n",
       "      <td>RUA WALTER MARQUARDT</td>\n",
       "      <td>2555</td>\n",
       "      <td>NaN</td>\n",
       "      <td>BARRA DO RIO MOLHA</td>\n",
       "      <td>89259-700</td>\n",
       "      <td>GLP</td>\n",
       "      <td>01/07/2021</td>\n",
       "      <td>86,9</td>\n",
       "      <td>NaN</td>\n",
       "      <td>R$ / 13 kg</td>\n",
       "      <td>NACIONAL GÁS BUTANO</td>\n",
       "    </tr>\n",
       "    <tr>\n",
       "      <th>2</th>\n",
       "      <td>NE</td>\n",
       "      <td>MA</td>\n",
       "      <td>SAO JOSE DE RIBAMAR</td>\n",
       "      <td>POSTO ATLANTICO SUL LTDA</td>\n",
       "      <td>04.034.035/0001-00</td>\n",
       "      <td>RODOVIA MA  203</td>\n",
       "      <td>20</td>\n",
       "      <td>K M</td>\n",
       "      <td>ARACAGY</td>\n",
       "      <td>65110-000</td>\n",
       "      <td>GLP</td>\n",
       "      <td>01/07/2021</td>\n",
       "      <td>89,99</td>\n",
       "      <td>NaN</td>\n",
       "      <td>R$ / 13 kg</td>\n",
       "      <td>LIQUIGÁS</td>\n",
       "    </tr>\n",
       "    <tr>\n",
       "      <th>3</th>\n",
       "      <td>SE</td>\n",
       "      <td>SP</td>\n",
       "      <td>BIRIGUI</td>\n",
       "      <td>AUTO POSTO SCUCUGLIA E OLIVEIRA LTDA</td>\n",
       "      <td>00.226.807/0001-47</td>\n",
       "      <td>RUA CONSOLACAO</td>\n",
       "      <td>140</td>\n",
       "      <td>NaN</td>\n",
       "      <td>PARQUE R PINHEIROS</td>\n",
       "      <td>16203-031</td>\n",
       "      <td>GLP</td>\n",
       "      <td>01/07/2021</td>\n",
       "      <td>85</td>\n",
       "      <td>NaN</td>\n",
       "      <td>R$ / 13 kg</td>\n",
       "      <td>SUPERGASBRAS ENERGIA</td>\n",
       "    </tr>\n",
       "    <tr>\n",
       "      <th>4</th>\n",
       "      <td>SE</td>\n",
       "      <td>SP</td>\n",
       "      <td>GARCA</td>\n",
       "      <td>AUTO POSTO RANELI GARCA LTDA</td>\n",
       "      <td>72.812.795/0001-43</td>\n",
       "      <td>RUA BASILIO SELANI</td>\n",
       "      <td>45</td>\n",
       "      <td>NaN</td>\n",
       "      <td>VILA JOSE RIBEIRO</td>\n",
       "      <td>17400-000</td>\n",
       "      <td>GLP</td>\n",
       "      <td>01/07/2021</td>\n",
       "      <td>100</td>\n",
       "      <td>NaN</td>\n",
       "      <td>R$ / 13 kg</td>\n",
       "      <td>LIQUIGÁS</td>\n",
       "    </tr>\n",
       "  </tbody>\n",
       "</table>\n",
       "</div>"
      ],
      "text/plain": [
       "  Regiao - Sigla Estado - Sigla            Municipio  \\\n",
       "0             NE             CE            MARACANAU   \n",
       "1              S             SC       JARAGUA DO SUL   \n",
       "2             NE             MA  SAO JOSE DE RIBAMAR   \n",
       "3             SE             SP              BIRIGUI   \n",
       "4             SE             SP                GARCA   \n",
       "\n",
       "                                Revenda      CNPJ da Revenda  \\\n",
       "0                       POSTO BOTO LTDA   03.020.995/0001-40   \n",
       "1                     POSTO CIDADE LTDA   81.352.882/0004-07   \n",
       "2              POSTO ATLANTICO SUL LTDA   04.034.035/0001-00   \n",
       "3  AUTO POSTO SCUCUGLIA E OLIVEIRA LTDA   00.226.807/0001-47   \n",
       "4          AUTO POSTO RANELI GARCA LTDA   72.812.795/0001-43   \n",
       "\n",
       "                          Nome da Rua Numero Rua Complemento  \\\n",
       "0  AVENIDA PADRE JOSE HOLANDA DO VALE        809         NaN   \n",
       "1                RUA WALTER MARQUARDT       2555         NaN   \n",
       "2                     RODOVIA MA  203         20         K M   \n",
       "3                      RUA CONSOLACAO        140         NaN   \n",
       "4                  RUA BASILIO SELANI         45         NaN   \n",
       "\n",
       "               Bairro        Cep Produto Data da Coleta Valor de Venda  \\\n",
       "0         PIRATININGA  61905-000     GLP     01/07/2021          89,99   \n",
       "1  BARRA DO RIO MOLHA  89259-700     GLP     01/07/2021           86,9   \n",
       "2             ARACAGY  65110-000     GLP     01/07/2021          89,99   \n",
       "3  PARQUE R PINHEIROS  16203-031     GLP     01/07/2021             85   \n",
       "4   VILA JOSE RIBEIRO  17400-000     GLP     01/07/2021            100   \n",
       "\n",
       "   Valor de Compra Unidade de Medida              Bandeira  \n",
       "0              NaN        R$ / 13 kg   NACIONAL GÁS BUTANO  \n",
       "1              NaN        R$ / 13 kg   NACIONAL GÁS BUTANO  \n",
       "2              NaN        R$ / 13 kg              LIQUIGÁS  \n",
       "3              NaN        R$ / 13 kg  SUPERGASBRAS ENERGIA  \n",
       "4              NaN        R$ / 13 kg              LIQUIGÁS  "
      ]
     },
     "execution_count": 663,
     "metadata": {},
     "output_type": "execute_result"
    }
   ],
   "source": [
    "df = pd.read_csv('glp-2021-02.csv', delimiter=';')\n",
    "\n",
    "# Excluindo a coluna Valor de Compra\n",
    "#df = df.drop(columns=['Valor de Compra'])\n",
    "#df = df.rename(columns={'Regiao - Sigla':'Regiao_Sigla', 'Estado - Sigla':'Estado_Sigla'})\n",
    "df.head()"
   ]
  },
  {
   "cell_type": "code",
   "execution_count": 664,
   "id": "517490c4",
   "metadata": {},
   "outputs": [
    {
     "name": "stdout",
     "output_type": "stream",
     "text": [
      "<class 'pandas.core.frame.DataFrame'>\n",
      "RangeIndex: 89372 entries, 0 to 89371\n",
      "Data columns (total 16 columns):\n",
      " #   Column             Non-Null Count  Dtype  \n",
      "---  ------             --------------  -----  \n",
      " 0   Regiao - Sigla     89372 non-null  object \n",
      " 1   Estado - Sigla     89372 non-null  object \n",
      " 2   Municipio          89372 non-null  object \n",
      " 3   Revenda            89372 non-null  object \n",
      " 4   CNPJ da Revenda    89372 non-null  object \n",
      " 5   Nome da Rua        89372 non-null  object \n",
      " 6   Numero Rua         89371 non-null  object \n",
      " 7   Complemento        21059 non-null  object \n",
      " 8   Bairro             89367 non-null  object \n",
      " 9   Cep                89372 non-null  object \n",
      " 10  Produto            89372 non-null  object \n",
      " 11  Data da Coleta     89372 non-null  object \n",
      " 12  Valor de Venda     89372 non-null  object \n",
      " 13  Valor de Compra    0 non-null      float64\n",
      " 14  Unidade de Medida  89372 non-null  object \n",
      " 15  Bandeira           89372 non-null  object \n",
      "dtypes: float64(1), object(15)\n",
      "memory usage: 10.9+ MB\n"
     ]
    }
   ],
   "source": [
    "df.info()"
   ]
  },
  {
   "cell_type": "markdown",
   "id": "9b413b7f",
   "metadata": {},
   "source": [
    "<h3> Tratando a coluna 'Valor de Venda' </h3>"
   ]
  },
  {
   "cell_type": "code",
   "execution_count": 665,
   "id": "7c996926",
   "metadata": {},
   "outputs": [
    {
     "data": {
      "text/plain": [
       "dtype('O')"
      ]
     },
     "execution_count": 665,
     "metadata": {},
     "output_type": "execute_result"
    }
   ],
   "source": [
    "# Trocando , por . da coluna 'Valor de Venda'\n",
    "# read_csv(decimal=',')\n",
    "df['Valor de Venda'] = df['Valor de Venda'].str.replace(',', '.')\n",
    "df['Valor de Venda'].dtypes"
   ]
  },
  {
   "cell_type": "code",
   "execution_count": 666,
   "id": "4240275e",
   "metadata": {},
   "outputs": [
    {
     "data": {
      "text/plain": [
       "dtype('float64')"
      ]
     },
     "execution_count": 666,
     "metadata": {},
     "output_type": "execute_result"
    }
   ],
   "source": [
    "# Convertendo o tipo da coluna 'Valor de Venda' para Float\n",
    "df['Valor de Venda'] = df['Valor de Venda'].astype(float)\n",
    "df['Valor de Venda'].dtypes"
   ]
  },
  {
   "cell_type": "code",
   "execution_count": 667,
   "id": "6b18fd55",
   "metadata": {},
   "outputs": [
    {
     "data": {
      "text/html": [
       "<div>\n",
       "<style scoped>\n",
       "    .dataframe tbody tr th:only-of-type {\n",
       "        vertical-align: middle;\n",
       "    }\n",
       "\n",
       "    .dataframe tbody tr th {\n",
       "        vertical-align: top;\n",
       "    }\n",
       "\n",
       "    .dataframe thead th {\n",
       "        text-align: right;\n",
       "    }\n",
       "</style>\n",
       "<table border=\"1\" class=\"dataframe\">\n",
       "  <thead>\n",
       "    <tr style=\"text-align: right;\">\n",
       "      <th></th>\n",
       "      <th>Regiao - Sigla</th>\n",
       "      <th>Estado - Sigla</th>\n",
       "      <th>Municipio</th>\n",
       "      <th>Revenda</th>\n",
       "      <th>CNPJ da Revenda</th>\n",
       "      <th>Nome da Rua</th>\n",
       "      <th>Numero Rua</th>\n",
       "      <th>Complemento</th>\n",
       "      <th>Bairro</th>\n",
       "      <th>Cep</th>\n",
       "      <th>Produto</th>\n",
       "      <th>Data da Coleta</th>\n",
       "      <th>Valor de Venda</th>\n",
       "      <th>Valor de Compra</th>\n",
       "      <th>Unidade de Medida</th>\n",
       "      <th>Bandeira</th>\n",
       "    </tr>\n",
       "  </thead>\n",
       "  <tbody>\n",
       "    <tr>\n",
       "      <th>0</th>\n",
       "      <td>NE</td>\n",
       "      <td>CE</td>\n",
       "      <td>MARACANAU</td>\n",
       "      <td>POSTO BOTO LTDA</td>\n",
       "      <td>03.020.995/0001-40</td>\n",
       "      <td>AVENIDA PADRE JOSE HOLANDA DO VALE</td>\n",
       "      <td>809</td>\n",
       "      <td>NaN</td>\n",
       "      <td>PIRATININGA</td>\n",
       "      <td>61905-000</td>\n",
       "      <td>GLP</td>\n",
       "      <td>01/07/2021</td>\n",
       "      <td>89.99</td>\n",
       "      <td>NaN</td>\n",
       "      <td>R$ / 13 kg</td>\n",
       "      <td>NACIONAL GÁS BUTANO</td>\n",
       "    </tr>\n",
       "    <tr>\n",
       "      <th>1</th>\n",
       "      <td>S</td>\n",
       "      <td>SC</td>\n",
       "      <td>JARAGUA DO SUL</td>\n",
       "      <td>POSTO CIDADE LTDA</td>\n",
       "      <td>81.352.882/0004-07</td>\n",
       "      <td>RUA WALTER MARQUARDT</td>\n",
       "      <td>2555</td>\n",
       "      <td>NaN</td>\n",
       "      <td>BARRA DO RIO MOLHA</td>\n",
       "      <td>89259-700</td>\n",
       "      <td>GLP</td>\n",
       "      <td>01/07/2021</td>\n",
       "      <td>86.90</td>\n",
       "      <td>NaN</td>\n",
       "      <td>R$ / 13 kg</td>\n",
       "      <td>NACIONAL GÁS BUTANO</td>\n",
       "    </tr>\n",
       "    <tr>\n",
       "      <th>2</th>\n",
       "      <td>NE</td>\n",
       "      <td>MA</td>\n",
       "      <td>SAO JOSE DE RIBAMAR</td>\n",
       "      <td>POSTO ATLANTICO SUL LTDA</td>\n",
       "      <td>04.034.035/0001-00</td>\n",
       "      <td>RODOVIA MA  203</td>\n",
       "      <td>20</td>\n",
       "      <td>K M</td>\n",
       "      <td>ARACAGY</td>\n",
       "      <td>65110-000</td>\n",
       "      <td>GLP</td>\n",
       "      <td>01/07/2021</td>\n",
       "      <td>89.99</td>\n",
       "      <td>NaN</td>\n",
       "      <td>R$ / 13 kg</td>\n",
       "      <td>LIQUIGÁS</td>\n",
       "    </tr>\n",
       "    <tr>\n",
       "      <th>3</th>\n",
       "      <td>SE</td>\n",
       "      <td>SP</td>\n",
       "      <td>BIRIGUI</td>\n",
       "      <td>AUTO POSTO SCUCUGLIA E OLIVEIRA LTDA</td>\n",
       "      <td>00.226.807/0001-47</td>\n",
       "      <td>RUA CONSOLACAO</td>\n",
       "      <td>140</td>\n",
       "      <td>NaN</td>\n",
       "      <td>PARQUE R PINHEIROS</td>\n",
       "      <td>16203-031</td>\n",
       "      <td>GLP</td>\n",
       "      <td>01/07/2021</td>\n",
       "      <td>85.00</td>\n",
       "      <td>NaN</td>\n",
       "      <td>R$ / 13 kg</td>\n",
       "      <td>SUPERGASBRAS ENERGIA</td>\n",
       "    </tr>\n",
       "    <tr>\n",
       "      <th>4</th>\n",
       "      <td>SE</td>\n",
       "      <td>SP</td>\n",
       "      <td>GARCA</td>\n",
       "      <td>AUTO POSTO RANELI GARCA LTDA</td>\n",
       "      <td>72.812.795/0001-43</td>\n",
       "      <td>RUA BASILIO SELANI</td>\n",
       "      <td>45</td>\n",
       "      <td>NaN</td>\n",
       "      <td>VILA JOSE RIBEIRO</td>\n",
       "      <td>17400-000</td>\n",
       "      <td>GLP</td>\n",
       "      <td>01/07/2021</td>\n",
       "      <td>100.00</td>\n",
       "      <td>NaN</td>\n",
       "      <td>R$ / 13 kg</td>\n",
       "      <td>LIQUIGÁS</td>\n",
       "    </tr>\n",
       "  </tbody>\n",
       "</table>\n",
       "</div>"
      ],
      "text/plain": [
       "  Regiao - Sigla Estado - Sigla            Municipio  \\\n",
       "0             NE             CE            MARACANAU   \n",
       "1              S             SC       JARAGUA DO SUL   \n",
       "2             NE             MA  SAO JOSE DE RIBAMAR   \n",
       "3             SE             SP              BIRIGUI   \n",
       "4             SE             SP                GARCA   \n",
       "\n",
       "                                Revenda      CNPJ da Revenda  \\\n",
       "0                       POSTO BOTO LTDA   03.020.995/0001-40   \n",
       "1                     POSTO CIDADE LTDA   81.352.882/0004-07   \n",
       "2              POSTO ATLANTICO SUL LTDA   04.034.035/0001-00   \n",
       "3  AUTO POSTO SCUCUGLIA E OLIVEIRA LTDA   00.226.807/0001-47   \n",
       "4          AUTO POSTO RANELI GARCA LTDA   72.812.795/0001-43   \n",
       "\n",
       "                          Nome da Rua Numero Rua Complemento  \\\n",
       "0  AVENIDA PADRE JOSE HOLANDA DO VALE        809         NaN   \n",
       "1                RUA WALTER MARQUARDT       2555         NaN   \n",
       "2                     RODOVIA MA  203         20         K M   \n",
       "3                      RUA CONSOLACAO        140         NaN   \n",
       "4                  RUA BASILIO SELANI         45         NaN   \n",
       "\n",
       "               Bairro        Cep Produto Data da Coleta  Valor de Venda  \\\n",
       "0         PIRATININGA  61905-000     GLP     01/07/2021           89.99   \n",
       "1  BARRA DO RIO MOLHA  89259-700     GLP     01/07/2021           86.90   \n",
       "2             ARACAGY  65110-000     GLP     01/07/2021           89.99   \n",
       "3  PARQUE R PINHEIROS  16203-031     GLP     01/07/2021           85.00   \n",
       "4   VILA JOSE RIBEIRO  17400-000     GLP     01/07/2021          100.00   \n",
       "\n",
       "   Valor de Compra Unidade de Medida              Bandeira  \n",
       "0              NaN        R$ / 13 kg   NACIONAL GÁS BUTANO  \n",
       "1              NaN        R$ / 13 kg   NACIONAL GÁS BUTANO  \n",
       "2              NaN        R$ / 13 kg              LIQUIGÁS  \n",
       "3              NaN        R$ / 13 kg  SUPERGASBRAS ENERGIA  \n",
       "4              NaN        R$ / 13 kg              LIQUIGÁS  "
      ]
     },
     "execution_count": 667,
     "metadata": {},
     "output_type": "execute_result"
    }
   ],
   "source": [
    "df.head(5)"
   ]
  },
  {
   "cell_type": "markdown",
   "id": "8fb5777d",
   "metadata": {},
   "source": [
    "<h3>1. Análise completa sobre o Describe</h3>"
   ]
  },
  {
   "cell_type": "code",
   "execution_count": 668,
   "id": "549fb2a0",
   "metadata": {},
   "outputs": [
    {
     "data": {
      "text/plain": [
       "count    89372.00\n",
       "mean        99.28\n",
       "std          9.59\n",
       "min         64.99\n",
       "25%         93.00\n",
       "50%         99.00\n",
       "75%        105.00\n",
       "max        140.00\n",
       "Name: Valor de Venda, dtype: float64"
      ]
     },
     "execution_count": 668,
     "metadata": {},
     "output_type": "execute_result"
    }
   ],
   "source": [
    "df['Valor de Venda'].describe().round(2)"
   ]
  },
  {
   "cell_type": "code",
   "execution_count": 669,
   "id": "687d98a1",
   "metadata": {},
   "outputs": [
    {
     "data": {
      "text/plain": [
       "0    100.0\n",
       "dtype: float64"
      ]
     },
     "execution_count": 669,
     "metadata": {},
     "output_type": "execute_result"
    }
   ],
   "source": [
    "df['Valor de Venda'].mode()"
   ]
  },
  {
   "cell_type": "code",
   "execution_count": 670,
   "id": "9329a2aa",
   "metadata": {},
   "outputs": [
    {
     "data": {
      "text/plain": [
       "11.0"
      ]
     },
     "execution_count": 670,
     "metadata": {},
     "output_type": "execute_result"
    }
   ],
   "source": [
    "round(df[df['Valor de Venda']==100].count()[-4] / df.count()[0] * 100, 0)"
   ]
  },
  {
   "cell_type": "code",
   "execution_count": 671,
   "id": "e5c1a7a7",
   "metadata": {},
   "outputs": [],
   "source": [
    "# df[df['Valor de Venda'] == df['Valor de Venda'].max()][\n",
    "#     ['Regiao - Sigla', 'Estado - Sigla', 'Municipio', 'Revenda', 'Bairro', 'Valor de Venda', 'Bandeira']].head()"
   ]
  },
  {
   "cell_type": "markdown",
   "id": "66bd39f8",
   "metadata": {},
   "source": [
    "<h3>O gás com o valor mais alto de cada estado</h3>"
   ]
  },
  {
   "cell_type": "code",
   "execution_count": 672,
   "id": "ccee6929",
   "metadata": {},
   "outputs": [
    {
     "data": {
      "text/html": [
       "<div>\n",
       "<style scoped>\n",
       "    .dataframe tbody tr th:only-of-type {\n",
       "        vertical-align: middle;\n",
       "    }\n",
       "\n",
       "    .dataframe tbody tr th {\n",
       "        vertical-align: top;\n",
       "    }\n",
       "\n",
       "    .dataframe thead th {\n",
       "        text-align: right;\n",
       "    }\n",
       "</style>\n",
       "<table border=\"1\" class=\"dataframe\">\n",
       "  <thead>\n",
       "    <tr style=\"text-align: right;\">\n",
       "      <th></th>\n",
       "      <th>Estado - Sigla</th>\n",
       "      <th>Bandeira</th>\n",
       "      <th>Valor de Venda</th>\n",
       "    </tr>\n",
       "  </thead>\n",
       "  <tbody>\n",
       "    <tr>\n",
       "      <th>58675</th>\n",
       "      <td>AC</td>\n",
       "      <td>FOGAS</td>\n",
       "      <td>130.0</td>\n",
       "    </tr>\n",
       "    <tr>\n",
       "      <th>36321</th>\n",
       "      <td>AL</td>\n",
       "      <td>LIQUIGÁS</td>\n",
       "      <td>105.0</td>\n",
       "    </tr>\n",
       "    <tr>\n",
       "      <th>63683</th>\n",
       "      <td>AM</td>\n",
       "      <td>FOGAS</td>\n",
       "      <td>125.0</td>\n",
       "    </tr>\n",
       "    <tr>\n",
       "      <th>58147</th>\n",
       "      <td>AP</td>\n",
       "      <td>LIQUIGÁS</td>\n",
       "      <td>127.0</td>\n",
       "    </tr>\n",
       "    <tr>\n",
       "      <th>48000</th>\n",
       "      <td>BA</td>\n",
       "      <td>BAHIANA</td>\n",
       "      <td>115.0</td>\n",
       "    </tr>\n",
       "    <tr>\n",
       "      <th>48837</th>\n",
       "      <td>CE</td>\n",
       "      <td>LIQUIGÁS</td>\n",
       "      <td>115.0</td>\n",
       "    </tr>\n",
       "    <tr>\n",
       "      <th>78036</th>\n",
       "      <td>DF</td>\n",
       "      <td>BRANCA</td>\n",
       "      <td>115.0</td>\n",
       "    </tr>\n",
       "    <tr>\n",
       "      <th>29882</th>\n",
       "      <td>ES</td>\n",
       "      <td>BRANCA</td>\n",
       "      <td>110.0</td>\n",
       "    </tr>\n",
       "    <tr>\n",
       "      <th>39214</th>\n",
       "      <td>GO</td>\n",
       "      <td>SUPERGASBRAS ENERGIA</td>\n",
       "      <td>130.0</td>\n",
       "    </tr>\n",
       "    <tr>\n",
       "      <th>72599</th>\n",
       "      <td>MA</td>\n",
       "      <td>BRANCA</td>\n",
       "      <td>120.0</td>\n",
       "    </tr>\n",
       "    <tr>\n",
       "      <th>53040</th>\n",
       "      <td>MG</td>\n",
       "      <td>SUPERGASBRAS ENERGIA</td>\n",
       "      <td>125.0</td>\n",
       "    </tr>\n",
       "    <tr>\n",
       "      <th>47771</th>\n",
       "      <td>MS</td>\n",
       "      <td>COPAGAZ</td>\n",
       "      <td>124.0</td>\n",
       "    </tr>\n",
       "    <tr>\n",
       "      <th>59244</th>\n",
       "      <td>MT</td>\n",
       "      <td>SUPERGASBRAS ENERGIA</td>\n",
       "      <td>140.0</td>\n",
       "    </tr>\n",
       "    <tr>\n",
       "      <th>14308</th>\n",
       "      <td>PA</td>\n",
       "      <td>NACIONAL GÁS BUTANO</td>\n",
       "      <td>130.0</td>\n",
       "    </tr>\n",
       "    <tr>\n",
       "      <th>50985</th>\n",
       "      <td>PB</td>\n",
       "      <td>NACIONAL GÁS BUTANO</td>\n",
       "      <td>120.0</td>\n",
       "    </tr>\n",
       "    <tr>\n",
       "      <th>80222</th>\n",
       "      <td>PE</td>\n",
       "      <td>MINASGAS</td>\n",
       "      <td>120.0</td>\n",
       "    </tr>\n",
       "    <tr>\n",
       "      <th>48627</th>\n",
       "      <td>PI</td>\n",
       "      <td>LIQUIGÁS</td>\n",
       "      <td>120.0</td>\n",
       "    </tr>\n",
       "    <tr>\n",
       "      <th>57771</th>\n",
       "      <td>PR</td>\n",
       "      <td>SUPERGASBRAS ENERGIA</td>\n",
       "      <td>130.0</td>\n",
       "    </tr>\n",
       "    <tr>\n",
       "      <th>59401</th>\n",
       "      <td>RJ</td>\n",
       "      <td>NACIONAL GÁS BUTANO</td>\n",
       "      <td>125.0</td>\n",
       "    </tr>\n",
       "    <tr>\n",
       "      <th>49070</th>\n",
       "      <td>RN</td>\n",
       "      <td>NACIONAL GÁS BUTANO</td>\n",
       "      <td>120.0</td>\n",
       "    </tr>\n",
       "    <tr>\n",
       "      <th>46158</th>\n",
       "      <td>RO</td>\n",
       "      <td>AMAZONGÁS</td>\n",
       "      <td>135.0</td>\n",
       "    </tr>\n",
       "    <tr>\n",
       "      <th>42912</th>\n",
       "      <td>RR</td>\n",
       "      <td>AMAZONGÁS</td>\n",
       "      <td>130.0</td>\n",
       "    </tr>\n",
       "    <tr>\n",
       "      <th>64695</th>\n",
       "      <td>RS</td>\n",
       "      <td>ULTRAGAZ</td>\n",
       "      <td>139.0</td>\n",
       "    </tr>\n",
       "    <tr>\n",
       "      <th>51324</th>\n",
       "      <td>SC</td>\n",
       "      <td>SUPERGASBRAS ENERGIA</td>\n",
       "      <td>135.0</td>\n",
       "    </tr>\n",
       "    <tr>\n",
       "      <th>48526</th>\n",
       "      <td>SE</td>\n",
       "      <td>BAHIANA</td>\n",
       "      <td>100.0</td>\n",
       "    </tr>\n",
       "    <tr>\n",
       "      <th>51311</th>\n",
       "      <td>SP</td>\n",
       "      <td>LIQUIGÁS</td>\n",
       "      <td>130.0</td>\n",
       "    </tr>\n",
       "    <tr>\n",
       "      <th>36552</th>\n",
       "      <td>TO</td>\n",
       "      <td>LIQUIGÁS</td>\n",
       "      <td>120.0</td>\n",
       "    </tr>\n",
       "  </tbody>\n",
       "</table>\n",
       "</div>"
      ],
      "text/plain": [
       "      Estado - Sigla              Bandeira  Valor de Venda\n",
       "58675             AC                 FOGAS           130.0\n",
       "36321             AL              LIQUIGÁS           105.0\n",
       "63683             AM                 FOGAS           125.0\n",
       "58147             AP              LIQUIGÁS           127.0\n",
       "48000             BA               BAHIANA           115.0\n",
       "48837             CE              LIQUIGÁS           115.0\n",
       "78036             DF                BRANCA           115.0\n",
       "29882             ES                BRANCA           110.0\n",
       "39214             GO  SUPERGASBRAS ENERGIA           130.0\n",
       "72599             MA                BRANCA           120.0\n",
       "53040             MG  SUPERGASBRAS ENERGIA           125.0\n",
       "47771             MS               COPAGAZ           124.0\n",
       "59244             MT  SUPERGASBRAS ENERGIA           140.0\n",
       "14308             PA   NACIONAL GÁS BUTANO           130.0\n",
       "50985             PB   NACIONAL GÁS BUTANO           120.0\n",
       "80222             PE              MINASGAS           120.0\n",
       "48627             PI              LIQUIGÁS           120.0\n",
       "57771             PR  SUPERGASBRAS ENERGIA           130.0\n",
       "59401             RJ   NACIONAL GÁS BUTANO           125.0\n",
       "49070             RN   NACIONAL GÁS BUTANO           120.0\n",
       "46158             RO             AMAZONGÁS           135.0\n",
       "42912             RR             AMAZONGÁS           130.0\n",
       "64695             RS              ULTRAGAZ           139.0\n",
       "51324             SC  SUPERGASBRAS ENERGIA           135.0\n",
       "48526             SE               BAHIANA           100.0\n",
       "51311             SP              LIQUIGÁS           130.0\n",
       "36552             TO              LIQUIGÁS           120.0"
      ]
     },
     "execution_count": 672,
     "metadata": {},
     "output_type": "execute_result"
    }
   ],
   "source": [
    "df.loc[df.groupby('Estado - Sigla')['Valor de Venda'].idxmax()][['Estado - Sigla', 'Bandeira', 'Valor de Venda']]"
   ]
  },
  {
   "cell_type": "markdown",
   "id": "7f1e1e75",
   "metadata": {},
   "source": [
    "<p><b>Análise:</b></p>\n",
    "<ol>\n",
    "    <li><b>25%</b> da nossa base vende o gás a <b>R&#x24; 93,00</b> ou menos.</li>\n",
    "    <li><b>50%</b> da nossa base vende o gás a <b>R&#x24; 99,00</b>  ou menos.</li>\n",
    "    <li><b>75%</b> da nossa base vende o gás a <b>R&#x24; 105,00</b>  ou menos.</li>\n",
    "    <li>Em média, os revendedores venderam o gás a <b>R&#x24; 99,00</b>  no segundo semestre de 2021.</li>\n",
    "    <li><b>11%</b> dos revendedores, venderam o gás a <b>R&#x24; 100,00.</b> </li>   \n",
    "<ol>"
   ]
  },
  {
   "cell_type": "markdown",
   "id": "706cd412",
   "metadata": {},
   "source": [
    "<h3>2. Fazer a amplitude interquartil do Valor de Venda e uma análise sobre o resultado apresentado</h3>"
   ]
  },
  {
   "cell_type": "code",
   "execution_count": 673,
   "id": "ebf5f309",
   "metadata": {},
   "outputs": [
    {
     "data": {
      "text/plain": [
       "105.0"
      ]
     },
     "execution_count": 673,
     "metadata": {},
     "output_type": "execute_result"
    }
   ],
   "source": [
    "# 75%\n",
    "Q3 = df['Valor de Venda'].describe()[6]\n",
    "Q3"
   ]
  },
  {
   "cell_type": "code",
   "execution_count": 674,
   "id": "00230548",
   "metadata": {},
   "outputs": [
    {
     "data": {
      "text/plain": [
       "93.0"
      ]
     },
     "execution_count": 674,
     "metadata": {},
     "output_type": "execute_result"
    }
   ],
   "source": [
    "# 25%\n",
    "Q1 = df['Valor de Venda'].describe()[4]\n",
    "Q1"
   ]
  },
  {
   "cell_type": "code",
   "execution_count": 675,
   "id": "3a2c4b84",
   "metadata": {},
   "outputs": [],
   "source": [
    "# Intervalo = Q3 - Q1\n",
    "intervalo = Q3 - Q1"
   ]
  },
  {
   "cell_type": "code",
   "execution_count": 676,
   "id": "02256687",
   "metadata": {},
   "outputs": [
    {
     "name": "stdout",
     "output_type": "stream",
     "text": [
      "Interquartil do Valor de Venda é: 12.0\n"
     ]
    }
   ],
   "source": [
    "# Intervalo Interquartil do Valor de Venda:\n",
    "print(f'Interquartil do Valor de Venda é: {intervalo}')"
   ]
  },
  {
   "cell_type": "markdown",
   "id": "2e5769b2",
   "metadata": {},
   "source": [
    "<p><b>Análise:</b></p>\n",
    "<ol>\n",
    "    <li>A amplitude interquartil do valor de venda é de <b>R&#x24; 12,00.</b><br></li>\n",
    "    <li><b>50%</b> dos dados estão entre os quartis inferior e superior.</li>\n",
    "    <li>Valor de venda varia no máximo em <b>R&#x24; 105,00.</b></li>\n",
    "    <li> Os outliers do nosso valor de venda é <b>R&#x24; 64.99</b> (Menor Valor de Venda) e <b>R&#x24;140,00</b> (Maior Valor de Venda).</li>\n",
    "</ol>"
   ]
  },
  {
   "cell_type": "markdown",
   "id": "d9c58b8d",
   "metadata": {},
   "source": [
    "<h3>3. Fazer o coeficiente de variação e uma análise sobre ele</h3>"
   ]
  },
  {
   "cell_type": "code",
   "execution_count": 677,
   "id": "637cac9e",
   "metadata": {},
   "outputs": [
    {
     "data": {
      "text/plain": [
       "99.28"
      ]
     },
     "execution_count": 677,
     "metadata": {},
     "output_type": "execute_result"
    }
   ],
   "source": [
    "# Média do Valor de Venda\n",
    "media_vv = round(df['Valor de Venda'].mean(), 2)\n",
    "media_vv"
   ]
  },
  {
   "cell_type": "code",
   "execution_count": 678,
   "id": "814cfc96",
   "metadata": {},
   "outputs": [
    {
     "data": {
      "text/plain": [
       "9.59"
      ]
     },
     "execution_count": 678,
     "metadata": {},
     "output_type": "execute_result"
    }
   ],
   "source": [
    "# Desvio Padrão do Valor de Venda\n",
    "desvio_padrao_vv = round(df['Valor de Venda'].describe()['std'], 2)\n",
    "desvio_padrao_vv"
   ]
  },
  {
   "cell_type": "code",
   "execution_count": 679,
   "id": "71ecbe1d",
   "metadata": {},
   "outputs": [
    {
     "name": "stdout",
     "output_type": "stream",
     "text": [
      "O Coeficiente do Valor de Venda é 10.0%\n"
     ]
    }
   ],
   "source": [
    "# Coeficiente de Variaação\n",
    "# desvio padrão / média * 100\n",
    "coeficiente_variacao_vv = round(desvio_padrao_vv / media_vv * 100, 0)\n",
    "\n",
    "print(f'O Coeficiente do Valor de Venda é {coeficiente_variacao_vv}%')"
   ]
  },
  {
   "cell_type": "markdown",
   "id": "88294cce",
   "metadata": {},
   "source": [
    "<p><b>Análise:</b></p>"
   ]
  },
  {
   "cell_type": "markdown",
   "id": "daa7b043",
   "metadata": {},
   "source": [
    "<ol>\n",
    "    <li>O <b>coeficiente de variação</b> é de <b>10%</b> em torno da média, ou seja,<br>\n",
    "        é uma variação aceitável, pois temos uma grande quantidade de dados agrupados.<br>\n",
    "        Através dos nossos percentis, podemos perceber o agrupamento dos dados.<br>\n",
    "        <b>25% -> 93.00</b><br>\n",
    "        <b>50% -> 99.00</b><br> \n",
    "        <b>75% -> 105.00</b>\n",
    "    </li> \n",
    "<ol>"
   ]
  },
  {
   "cell_type": "code",
   "execution_count": 680,
   "id": "5061a253",
   "metadata": {},
   "outputs": [],
   "source": [
    "# def agrupamento(gb_coluna, coluna, funcao, qtd_exibir):\n",
    "#     formula = df.groupby(gb_coluna)[[coluna]].mean().nsmallest(qtd_exibir, coluna).round(2)\n",
    "#     return formula\n",
    "# agrupamento('Bandeira', 'Valor de Venda', 5)"
   ]
  },
  {
   "cell_type": "markdown",
   "id": "cd6594a4",
   "metadata": {},
   "source": [
    "<h3>4. Fazer o agrupamento das top 10 bandeiras com a média do maior valor de venda</h3>"
   ]
  },
  {
   "cell_type": "code",
   "execution_count": 681,
   "id": "700486c2",
   "metadata": {},
   "outputs": [
    {
     "data": {
      "text/html": [
       "<div>\n",
       "<style scoped>\n",
       "    .dataframe tbody tr th:only-of-type {\n",
       "        vertical-align: middle;\n",
       "    }\n",
       "\n",
       "    .dataframe tbody tr th {\n",
       "        vertical-align: top;\n",
       "    }\n",
       "\n",
       "    .dataframe thead th {\n",
       "        text-align: right;\n",
       "    }\n",
       "</style>\n",
       "<table border=\"1\" class=\"dataframe\">\n",
       "  <thead>\n",
       "    <tr style=\"text-align: right;\">\n",
       "      <th></th>\n",
       "      <th>Valor de Venda</th>\n",
       "    </tr>\n",
       "    <tr>\n",
       "      <th>Bandeira</th>\n",
       "      <th></th>\n",
       "    </tr>\n",
       "  </thead>\n",
       "  <tbody>\n",
       "    <tr>\n",
       "      <th>FOGAS</th>\n",
       "      <td>109.20</td>\n",
       "    </tr>\n",
       "    <tr>\n",
       "      <th>AMAZONGÁS</th>\n",
       "      <td>107.18</td>\n",
       "    </tr>\n",
       "    <tr>\n",
       "      <th>SUPERGASBRAS</th>\n",
       "      <td>107.17</td>\n",
       "    </tr>\n",
       "    <tr>\n",
       "      <th>COPAGAZ</th>\n",
       "      <td>101.46</td>\n",
       "    </tr>\n",
       "    <tr>\n",
       "      <th>ULTRAGAZ</th>\n",
       "      <td>100.10</td>\n",
       "    </tr>\n",
       "    <tr>\n",
       "      <th>LIQUIGÁS</th>\n",
       "      <td>100.09</td>\n",
       "    </tr>\n",
       "    <tr>\n",
       "      <th>NACIONAL GÁS BUTANO</th>\n",
       "      <td>99.00</td>\n",
       "    </tr>\n",
       "    <tr>\n",
       "      <th>SUPERGASBRAS ENERGIA</th>\n",
       "      <td>98.48</td>\n",
       "    </tr>\n",
       "    <tr>\n",
       "      <th>BRANCA</th>\n",
       "      <td>98.19</td>\n",
       "    </tr>\n",
       "    <tr>\n",
       "      <th>SERVGÁS</th>\n",
       "      <td>96.69</td>\n",
       "    </tr>\n",
       "  </tbody>\n",
       "</table>\n",
       "</div>"
      ],
      "text/plain": [
       "                      Valor de Venda\n",
       "Bandeira                            \n",
       "FOGAS                         109.20\n",
       "AMAZONGÁS                     107.18\n",
       "SUPERGASBRAS                  107.17\n",
       "COPAGAZ                       101.46\n",
       "ULTRAGAZ                      100.10\n",
       "LIQUIGÁS                      100.09\n",
       "NACIONAL GÁS BUTANO            99.00\n",
       "SUPERGASBRAS ENERGIA           98.48\n",
       "BRANCA                         98.19\n",
       "SERVGÁS                        96.69"
      ]
     },
     "execution_count": 681,
     "metadata": {},
     "output_type": "execute_result"
    }
   ],
   "source": [
    "df.groupby('Bandeira')[['Valor de Venda']].mean().nlargest(10, 'Valor de Venda').round(2)"
   ]
  },
  {
   "cell_type": "markdown",
   "id": "71d5fdfe",
   "metadata": {},
   "source": [
    "<h3>5.1 Fazer o agrupamento por estado e trazer os 5 estados com a média do maior valor de venda</h3>"
   ]
  },
  {
   "cell_type": "code",
   "execution_count": 682,
   "id": "d1e2a904",
   "metadata": {},
   "outputs": [
    {
     "data": {
      "text/html": [
       "<div>\n",
       "<style scoped>\n",
       "    .dataframe tbody tr th:only-of-type {\n",
       "        vertical-align: middle;\n",
       "    }\n",
       "\n",
       "    .dataframe tbody tr th {\n",
       "        vertical-align: top;\n",
       "    }\n",
       "\n",
       "    .dataframe thead th {\n",
       "        text-align: right;\n",
       "    }\n",
       "</style>\n",
       "<table border=\"1\" class=\"dataframe\">\n",
       "  <thead>\n",
       "    <tr style=\"text-align: right;\">\n",
       "      <th></th>\n",
       "      <th>Valor de Venda</th>\n",
       "    </tr>\n",
       "    <tr>\n",
       "      <th>Estado - Sigla</th>\n",
       "      <th></th>\n",
       "    </tr>\n",
       "  </thead>\n",
       "  <tbody>\n",
       "    <tr>\n",
       "      <th>MT</th>\n",
       "      <td>118.69</td>\n",
       "    </tr>\n",
       "    <tr>\n",
       "      <th>AC</th>\n",
       "      <td>113.44</td>\n",
       "    </tr>\n",
       "    <tr>\n",
       "      <th>RO</th>\n",
       "      <td>113.26</td>\n",
       "    </tr>\n",
       "    <tr>\n",
       "      <th>AP</th>\n",
       "      <td>111.88</td>\n",
       "    </tr>\n",
       "    <tr>\n",
       "      <th>RR</th>\n",
       "      <td>110.66</td>\n",
       "    </tr>\n",
       "  </tbody>\n",
       "</table>\n",
       "</div>"
      ],
      "text/plain": [
       "                Valor de Venda\n",
       "Estado - Sigla                \n",
       "MT                      118.69\n",
       "AC                      113.44\n",
       "RO                      113.26\n",
       "AP                      111.88\n",
       "RR                      110.66"
      ]
     },
     "execution_count": 682,
     "metadata": {},
     "output_type": "execute_result"
    }
   ],
   "source": [
    "df.groupby('Estado - Sigla')[['Valor de Venda']].mean().nlargest(5, 'Valor de Venda').round(2)"
   ]
  },
  {
   "cell_type": "markdown",
   "id": "708c47da",
   "metadata": {},
   "source": [
    "<h3>5.2 Fazer o agrupamento por estado e trazer os 5 estados com a média do menor valor de venda</h3>"
   ]
  },
  {
   "cell_type": "code",
   "execution_count": 683,
   "id": "6f2fdd38",
   "metadata": {},
   "outputs": [
    {
     "data": {
      "text/html": [
       "<div>\n",
       "<style scoped>\n",
       "    .dataframe tbody tr th:only-of-type {\n",
       "        vertical-align: middle;\n",
       "    }\n",
       "\n",
       "    .dataframe tbody tr th {\n",
       "        vertical-align: top;\n",
       "    }\n",
       "\n",
       "    .dataframe thead th {\n",
       "        text-align: right;\n",
       "    }\n",
       "</style>\n",
       "<table border=\"1\" class=\"dataframe\">\n",
       "  <thead>\n",
       "    <tr style=\"text-align: right;\">\n",
       "      <th></th>\n",
       "      <th>Valor de Venda</th>\n",
       "    </tr>\n",
       "    <tr>\n",
       "      <th>Estado - Sigla</th>\n",
       "      <th></th>\n",
       "    </tr>\n",
       "  </thead>\n",
       "  <tbody>\n",
       "    <tr>\n",
       "      <th>RJ</th>\n",
       "      <td>89.30</td>\n",
       "    </tr>\n",
       "    <tr>\n",
       "      <th>PE</th>\n",
       "      <td>91.23</td>\n",
       "    </tr>\n",
       "    <tr>\n",
       "      <th>BA</th>\n",
       "      <td>92.19</td>\n",
       "    </tr>\n",
       "    <tr>\n",
       "      <th>SE</th>\n",
       "      <td>92.26</td>\n",
       "    </tr>\n",
       "    <tr>\n",
       "      <th>DF</th>\n",
       "      <td>94.30</td>\n",
       "    </tr>\n",
       "  </tbody>\n",
       "</table>\n",
       "</div>"
      ],
      "text/plain": [
       "                Valor de Venda\n",
       "Estado - Sigla                \n",
       "RJ                       89.30\n",
       "PE                       91.23\n",
       "BA                       92.19\n",
       "SE                       92.26\n",
       "DF                       94.30"
      ]
     },
     "execution_count": 683,
     "metadata": {},
     "output_type": "execute_result"
    }
   ],
   "source": [
    "df.groupby('Estado - Sigla')[['Valor de Venda']].mean().nsmallest(5, 'Valor de Venda').round(2)"
   ]
  },
  {
   "cell_type": "markdown",
   "id": "015b4064",
   "metadata": {},
   "source": [
    "<h3>6. Trazer o agrupamento por mês com a média de valor de venda por mês</h3>"
   ]
  },
  {
   "cell_type": "code",
   "execution_count": 692,
   "id": "8e722af0",
   "metadata": {},
   "outputs": [
    {
     "data": {
      "text/plain": [
       "dtype('<M8[ns]')"
      ]
     },
     "execution_count": 692,
     "metadata": {},
     "output_type": "execute_result"
    }
   ],
   "source": [
    "# Convertendo o tipo da coluna 'Data da Coleta' para datetime\n",
    "df['Data da Coleta'] = pd.to_datetime(df['Data da Coleta'])\n",
    "df['Data da Coleta'].dtypes"
   ]
  },
  {
   "cell_type": "code",
   "execution_count": 693,
   "id": "52081427",
   "metadata": {},
   "outputs": [],
   "source": [
    "# Pegando apenas o mês da data\n",
    "data_coleta = df['Data da Coleta'].dt.month"
   ]
  },
  {
   "cell_type": "code",
   "execution_count": 695,
   "id": "b19f0ebb",
   "metadata": {},
   "outputs": [
    {
     "data": {
      "text/html": [
       "<div>\n",
       "<style scoped>\n",
       "    .dataframe tbody tr th:only-of-type {\n",
       "        vertical-align: middle;\n",
       "    }\n",
       "\n",
       "    .dataframe tbody tr th {\n",
       "        vertical-align: top;\n",
       "    }\n",
       "\n",
       "    .dataframe thead th {\n",
       "        text-align: right;\n",
       "    }\n",
       "</style>\n",
       "<table border=\"1\" class=\"dataframe\">\n",
       "  <thead>\n",
       "    <tr style=\"text-align: right;\">\n",
       "      <th></th>\n",
       "      <th>Valor de Venda</th>\n",
       "    </tr>\n",
       "    <tr>\n",
       "      <th>Data da Coleta</th>\n",
       "      <th></th>\n",
       "    </tr>\n",
       "  </thead>\n",
       "  <tbody>\n",
       "    <tr>\n",
       "      <th>1</th>\n",
       "      <td>99.10</td>\n",
       "    </tr>\n",
       "    <tr>\n",
       "      <th>2</th>\n",
       "      <td>98.69</td>\n",
       "    </tr>\n",
       "    <tr>\n",
       "      <th>3</th>\n",
       "      <td>100.03</td>\n",
       "    </tr>\n",
       "    <tr>\n",
       "      <th>4</th>\n",
       "      <td>97.94</td>\n",
       "    </tr>\n",
       "    <tr>\n",
       "      <th>5</th>\n",
       "      <td>95.59</td>\n",
       "    </tr>\n",
       "    <tr>\n",
       "      <th>6</th>\n",
       "      <td>97.96</td>\n",
       "    </tr>\n",
       "    <tr>\n",
       "      <th>7</th>\n",
       "      <td>94.58</td>\n",
       "    </tr>\n",
       "    <tr>\n",
       "      <th>8</th>\n",
       "      <td>96.27</td>\n",
       "    </tr>\n",
       "    <tr>\n",
       "      <th>9</th>\n",
       "      <td>99.86</td>\n",
       "    </tr>\n",
       "    <tr>\n",
       "      <th>10</th>\n",
       "      <td>102.27</td>\n",
       "    </tr>\n",
       "    <tr>\n",
       "      <th>11</th>\n",
       "      <td>102.38</td>\n",
       "    </tr>\n",
       "    <tr>\n",
       "      <th>12</th>\n",
       "      <td>102.11</td>\n",
       "    </tr>\n",
       "  </tbody>\n",
       "</table>\n",
       "</div>"
      ],
      "text/plain": [
       "                Valor de Venda\n",
       "Data da Coleta                \n",
       "1                        99.10\n",
       "2                        98.69\n",
       "3                       100.03\n",
       "4                        97.94\n",
       "5                        95.59\n",
       "6                        97.96\n",
       "7                        94.58\n",
       "8                        96.27\n",
       "9                        99.86\n",
       "10                      102.27\n",
       "11                      102.38\n",
       "12                      102.11"
      ]
     },
     "execution_count": 695,
     "metadata": {},
     "output_type": "execute_result"
    }
   ],
   "source": [
    "#df.groupby(df['Data da Coleta'].dt.month)[['Valor de Venda']].mean().round(2)\n",
    "df.groupby(data_coleta)[['Valor de Venda']].mean().round(2)"
   ]
  }
 ],
 "metadata": {
  "kernelspec": {
   "display_name": "Python 3 (ipykernel)",
   "language": "python",
   "name": "python3"
  },
  "language_info": {
   "codemirror_mode": {
    "name": "ipython",
    "version": 3
   },
   "file_extension": ".py",
   "mimetype": "text/x-python",
   "name": "python",
   "nbconvert_exporter": "python",
   "pygments_lexer": "ipython3",
   "version": "3.9.7"
  }
 },
 "nbformat": 4,
 "nbformat_minor": 5
}
