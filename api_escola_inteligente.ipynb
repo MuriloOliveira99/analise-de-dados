{
 "cells": [
  {
   "cell_type": "markdown",
   "id": "f81d3142",
   "metadata": {},
   "source": [
    "# Análise dos Dados do Escola Inteligente\n",
    "São dados do INEP disponibilizados por meio de API\n",
    "\n",
    "link: http://educacao.dadosabertosbr.com/api/escolas/buscaavancada?situacaoFuncionamento=1&energiaInexistente=on&aguaInexistente=on&esgotoInexistente=on"
   ]
  },
  {
   "cell_type": "code",
   "execution_count": 1,
   "id": "a0414b40",
   "metadata": {},
   "outputs": [],
   "source": [
    "# Importando as bibliotecas\n",
    "import pandas as pd\n",
    "import requests"
   ]
  },
  {
   "cell_type": "code",
   "execution_count": 2,
   "id": "e6be8926",
   "metadata": {},
   "outputs": [],
   "source": [
    "# URL de acesso a API\n",
    "url = 'http://educacao.dadosabertosbr.com/api/escolas/buscaavancada?situacaoFuncionamento=1&energiaInexistente=on&aguaInexistente=on&esgotoInexistente=on'"
   ]
  },
  {
   "cell_type": "code",
   "execution_count": 3,
   "id": "d1532f7f",
   "metadata": {},
   "outputs": [],
   "source": [
    "# Faz a requisição web dos dados\n",
    "resposta = requests.get(url)\n",
    "#resposta.text"
   ]
  },
  {
   "cell_type": "code",
   "execution_count": 4,
   "id": "e41a9122",
   "metadata": {},
   "outputs": [
    {
     "data": {
      "text/html": [
       "<div>\n",
       "<style scoped>\n",
       "    .dataframe tbody tr th:only-of-type {\n",
       "        vertical-align: middle;\n",
       "    }\n",
       "\n",
       "    .dataframe tbody tr th {\n",
       "        vertical-align: top;\n",
       "    }\n",
       "\n",
       "    .dataframe thead th {\n",
       "        text-align: right;\n",
       "    }\n",
       "</style>\n",
       "<table border=\"1\" class=\"dataframe\">\n",
       "  <thead>\n",
       "    <tr style=\"text-align: right;\">\n",
       "      <th></th>\n",
       "      <th>anoCenso</th>\n",
       "      <th>cod</th>\n",
       "      <th>nome</th>\n",
       "      <th>codCidade</th>\n",
       "      <th>cidade</th>\n",
       "      <th>estado</th>\n",
       "      <th>regiao</th>\n",
       "      <th>situacaoFuncionamento</th>\n",
       "      <th>dependenciaAdministrativa</th>\n",
       "      <th>idebAI</th>\n",
       "      <th>idebAF</th>\n",
       "      <th>enemMediaGeral</th>\n",
       "      <th>situacaoFuncionamentoTxt</th>\n",
       "      <th>dependenciaAdministrativaTxt</th>\n",
       "    </tr>\n",
       "  </thead>\n",
       "  <tbody>\n",
       "    <tr>\n",
       "      <th>0</th>\n",
       "      <td>2013</td>\n",
       "      <td>41036026</td>\n",
       "      <td>BAIRRO DOS MENDES E R M EF</td>\n",
       "      <td>4104402</td>\n",
       "      <td>CANDIDO DE ABREU</td>\n",
       "      <td>PR</td>\n",
       "      <td>Sul</td>\n",
       "      <td>1</td>\n",
       "      <td>3</td>\n",
       "      <td>0.0</td>\n",
       "      <td>0.0</td>\n",
       "      <td>0.0</td>\n",
       "      <td>Em atividade</td>\n",
       "      <td>Municipal</td>\n",
       "    </tr>\n",
       "    <tr>\n",
       "      <th>1</th>\n",
       "      <td>2013</td>\n",
       "      <td>21237808</td>\n",
       "      <td>CEF CAJAZEIRAS</td>\n",
       "      <td>2109809</td>\n",
       "      <td>SANTA HELENA</td>\n",
       "      <td>MA</td>\n",
       "      <td>Nordeste</td>\n",
       "      <td>1</td>\n",
       "      <td>3</td>\n",
       "      <td>0.0</td>\n",
       "      <td>0.0</td>\n",
       "      <td>0.0</td>\n",
       "      <td>Em atividade</td>\n",
       "      <td>Municipal</td>\n",
       "    </tr>\n",
       "    <tr>\n",
       "      <th>2</th>\n",
       "      <td>2013</td>\n",
       "      <td>15008258</td>\n",
       "      <td>E M E F AGUA AZUL</td>\n",
       "      <td>1504802</td>\n",
       "      <td>MONTE ALEGRE</td>\n",
       "      <td>PA</td>\n",
       "      <td>Norte</td>\n",
       "      <td>1</td>\n",
       "      <td>3</td>\n",
       "      <td>0.0</td>\n",
       "      <td>0.0</td>\n",
       "      <td>0.0</td>\n",
       "      <td>Em atividade</td>\n",
       "      <td>Municipal</td>\n",
       "    </tr>\n",
       "    <tr>\n",
       "      <th>3</th>\n",
       "      <td>2013</td>\n",
       "      <td>15534340</td>\n",
       "      <td>E M E F AGUA BOA</td>\n",
       "      <td>1505650</td>\n",
       "      <td>PLACAS</td>\n",
       "      <td>PA</td>\n",
       "      <td>Norte</td>\n",
       "      <td>1</td>\n",
       "      <td>3</td>\n",
       "      <td>0.0</td>\n",
       "      <td>0.0</td>\n",
       "      <td>0.0</td>\n",
       "      <td>Em atividade</td>\n",
       "      <td>Municipal</td>\n",
       "    </tr>\n",
       "    <tr>\n",
       "      <th>4</th>\n",
       "      <td>2013</td>\n",
       "      <td>15590356</td>\n",
       "      <td>E M E F AGUA PRETA</td>\n",
       "      <td>1504703</td>\n",
       "      <td>MOJU</td>\n",
       "      <td>PA</td>\n",
       "      <td>Norte</td>\n",
       "      <td>1</td>\n",
       "      <td>3</td>\n",
       "      <td>0.0</td>\n",
       "      <td>0.0</td>\n",
       "      <td>0.0</td>\n",
       "      <td>Em atividade</td>\n",
       "      <td>Municipal</td>\n",
       "    </tr>\n",
       "  </tbody>\n",
       "</table>\n",
       "</div>"
      ],
      "text/plain": [
       "   anoCenso       cod                        nome  codCidade  \\\n",
       "0      2013  41036026  BAIRRO DOS MENDES E R M EF    4104402   \n",
       "1      2013  21237808              CEF CAJAZEIRAS    2109809   \n",
       "2      2013  15008258           E M E F AGUA AZUL    1504802   \n",
       "3      2013  15534340            E M E F AGUA BOA    1505650   \n",
       "4      2013  15590356          E M E F AGUA PRETA    1504703   \n",
       "\n",
       "             cidade estado    regiao  situacaoFuncionamento  \\\n",
       "0  CANDIDO DE ABREU     PR       Sul                      1   \n",
       "1      SANTA HELENA     MA  Nordeste                      1   \n",
       "2      MONTE ALEGRE     PA     Norte                      1   \n",
       "3            PLACAS     PA     Norte                      1   \n",
       "4              MOJU     PA     Norte                      1   \n",
       "\n",
       "   dependenciaAdministrativa  idebAI  idebAF  enemMediaGeral  \\\n",
       "0                          3     0.0     0.0             0.0   \n",
       "1                          3     0.0     0.0             0.0   \n",
       "2                          3     0.0     0.0             0.0   \n",
       "3                          3     0.0     0.0             0.0   \n",
       "4                          3     0.0     0.0             0.0   \n",
       "\n",
       "  situacaoFuncionamentoTxt dependenciaAdministrativaTxt  \n",
       "0             Em atividade                    Municipal  \n",
       "1             Em atividade                    Municipal  \n",
       "2             Em atividade                    Municipal  \n",
       "3             Em atividade                    Municipal  \n",
       "4             Em atividade                    Municipal  "
      ]
     },
     "execution_count": 4,
     "metadata": {},
     "output_type": "execute_result"
    }
   ],
   "source": [
    "# Criando nosso DataFrame\n",
    "df = pd.DataFrame(resposta.json()[1])\n",
    "\n",
    "# Mostrar as primeiros 5 linhas\n",
    "df.head()"
   ]
  },
  {
   "cell_type": "code",
   "execution_count": 5,
   "id": "13996178",
   "metadata": {},
   "outputs": [
    {
     "data": {
      "text/html": [
       "<div>\n",
       "<style scoped>\n",
       "    .dataframe tbody tr th:only-of-type {\n",
       "        vertical-align: middle;\n",
       "    }\n",
       "\n",
       "    .dataframe tbody tr th {\n",
       "        vertical-align: top;\n",
       "    }\n",
       "\n",
       "    .dataframe thead th {\n",
       "        text-align: right;\n",
       "    }\n",
       "</style>\n",
       "<table border=\"1\" class=\"dataframe\">\n",
       "  <thead>\n",
       "    <tr style=\"text-align: right;\">\n",
       "      <th></th>\n",
       "      <th>anoCenso</th>\n",
       "      <th>cod</th>\n",
       "      <th>nome</th>\n",
       "      <th>codCidade</th>\n",
       "      <th>cidade</th>\n",
       "      <th>estado</th>\n",
       "      <th>regiao</th>\n",
       "      <th>situacaoFuncionamento</th>\n",
       "      <th>dependenciaAdministrativa</th>\n",
       "      <th>idebAI</th>\n",
       "      <th>idebAF</th>\n",
       "      <th>enemMediaGeral</th>\n",
       "      <th>situacaoFuncionamentoTxt</th>\n",
       "      <th>dependenciaAdministrativaTxt</th>\n",
       "    </tr>\n",
       "  </thead>\n",
       "  <tbody>\n",
       "    <tr>\n",
       "      <th>95</th>\n",
       "      <td>2013</td>\n",
       "      <td>15079350</td>\n",
       "      <td>E M E F MANOEL GONCALVES II</td>\n",
       "      <td>1500206</td>\n",
       "      <td>ACARA</td>\n",
       "      <td>PA</td>\n",
       "      <td>Norte</td>\n",
       "      <td>1</td>\n",
       "      <td>3</td>\n",
       "      <td>0.0</td>\n",
       "      <td>0.0</td>\n",
       "      <td>0.0</td>\n",
       "      <td>Em atividade</td>\n",
       "      <td>Municipal</td>\n",
       "    </tr>\n",
       "    <tr>\n",
       "      <th>96</th>\n",
       "      <td>2013</td>\n",
       "      <td>15575586</td>\n",
       "      <td>E M E F MANUEL BANDEIRA</td>\n",
       "      <td>1506195</td>\n",
       "      <td>RUROPOLIS</td>\n",
       "      <td>PA</td>\n",
       "      <td>Norte</td>\n",
       "      <td>1</td>\n",
       "      <td>3</td>\n",
       "      <td>0.0</td>\n",
       "      <td>0.0</td>\n",
       "      <td>0.0</td>\n",
       "      <td>Em atividade</td>\n",
       "      <td>Municipal</td>\n",
       "    </tr>\n",
       "    <tr>\n",
       "      <th>97</th>\n",
       "      <td>2013</td>\n",
       "      <td>15575535</td>\n",
       "      <td>E M E F MARIA ALVES SANTANA</td>\n",
       "      <td>1506195</td>\n",
       "      <td>RUROPOLIS</td>\n",
       "      <td>PA</td>\n",
       "      <td>Norte</td>\n",
       "      <td>1</td>\n",
       "      <td>3</td>\n",
       "      <td>0.0</td>\n",
       "      <td>0.0</td>\n",
       "      <td>0.0</td>\n",
       "      <td>Em atividade</td>\n",
       "      <td>Municipal</td>\n",
       "    </tr>\n",
       "    <tr>\n",
       "      <th>98</th>\n",
       "      <td>2013</td>\n",
       "      <td>15115461</td>\n",
       "      <td>E M E F MARIA AMELIA</td>\n",
       "      <td>1505064</td>\n",
       "      <td>NOVO REPARTIMENTO</td>\n",
       "      <td>PA</td>\n",
       "      <td>Norte</td>\n",
       "      <td>1</td>\n",
       "      <td>3</td>\n",
       "      <td>0.0</td>\n",
       "      <td>0.0</td>\n",
       "      <td>0.0</td>\n",
       "      <td>Em atividade</td>\n",
       "      <td>Municipal</td>\n",
       "    </tr>\n",
       "    <tr>\n",
       "      <th>99</th>\n",
       "      <td>2013</td>\n",
       "      <td>15078183</td>\n",
       "      <td>E M E F MARIA DE NAZARE II</td>\n",
       "      <td>1500206</td>\n",
       "      <td>ACARA</td>\n",
       "      <td>PA</td>\n",
       "      <td>Norte</td>\n",
       "      <td>1</td>\n",
       "      <td>3</td>\n",
       "      <td>0.0</td>\n",
       "      <td>0.0</td>\n",
       "      <td>0.0</td>\n",
       "      <td>Em atividade</td>\n",
       "      <td>Municipal</td>\n",
       "    </tr>\n",
       "  </tbody>\n",
       "</table>\n",
       "</div>"
      ],
      "text/plain": [
       "    anoCenso       cod                         nome  codCidade  \\\n",
       "95      2013  15079350  E M E F MANOEL GONCALVES II    1500206   \n",
       "96      2013  15575586      E M E F MANUEL BANDEIRA    1506195   \n",
       "97      2013  15575535  E M E F MARIA ALVES SANTANA    1506195   \n",
       "98      2013  15115461         E M E F MARIA AMELIA    1505064   \n",
       "99      2013  15078183   E M E F MARIA DE NAZARE II    1500206   \n",
       "\n",
       "               cidade estado regiao  situacaoFuncionamento  \\\n",
       "95              ACARA     PA  Norte                      1   \n",
       "96          RUROPOLIS     PA  Norte                      1   \n",
       "97          RUROPOLIS     PA  Norte                      1   \n",
       "98  NOVO REPARTIMENTO     PA  Norte                      1   \n",
       "99              ACARA     PA  Norte                      1   \n",
       "\n",
       "    dependenciaAdministrativa  idebAI  idebAF  enemMediaGeral  \\\n",
       "95                          3     0.0     0.0             0.0   \n",
       "96                          3     0.0     0.0             0.0   \n",
       "97                          3     0.0     0.0             0.0   \n",
       "98                          3     0.0     0.0             0.0   \n",
       "99                          3     0.0     0.0             0.0   \n",
       "\n",
       "   situacaoFuncionamentoTxt dependenciaAdministrativaTxt  \n",
       "95             Em atividade                    Municipal  \n",
       "96             Em atividade                    Municipal  \n",
       "97             Em atividade                    Municipal  \n",
       "98             Em atividade                    Municipal  \n",
       "99             Em atividade                    Municipal  "
      ]
     },
     "execution_count": 5,
     "metadata": {},
     "output_type": "execute_result"
    }
   ],
   "source": [
    "# Mostrar as últimas 5 linhas\n",
    "df.tail(5)"
   ]
  },
  {
   "cell_type": "code",
   "execution_count": 6,
   "id": "28c76f87",
   "metadata": {},
   "outputs": [
    {
     "data": {
      "text/plain": [
       "(100, 14)"
      ]
     },
     "execution_count": 6,
     "metadata": {},
     "output_type": "execute_result"
    }
   ],
   "source": [
    "# Qual o tamanho do DataFrame\n",
    "df.shape"
   ]
  },
  {
   "cell_type": "code",
   "execution_count": 7,
   "id": "5dfd5c7a",
   "metadata": {},
   "outputs": [
    {
     "data": {
      "text/plain": [
       "anoCenso                          int64\n",
       "cod                               int64\n",
       "nome                             object\n",
       "codCidade                         int64\n",
       "cidade                           object\n",
       "estado                           object\n",
       "regiao                           object\n",
       "situacaoFuncionamento             int64\n",
       "dependenciaAdministrativa         int64\n",
       "idebAI                          float64\n",
       "idebAF                          float64\n",
       "enemMediaGeral                  float64\n",
       "situacaoFuncionamentoTxt         object\n",
       "dependenciaAdministrativaTxt     object\n",
       "dtype: object"
      ]
     },
     "execution_count": 7,
     "metadata": {},
     "output_type": "execute_result"
    }
   ],
   "source": [
    "df.dtypes"
   ]
  },
  {
   "cell_type": "code",
   "execution_count": 8,
   "id": "9fd7300f",
   "metadata": {},
   "outputs": [
    {
     "data": {
      "text/plain": [
       "anoCenso                        100\n",
       "cod                             100\n",
       "nome                            100\n",
       "codCidade                       100\n",
       "cidade                          100\n",
       "estado                          100\n",
       "regiao                          100\n",
       "situacaoFuncionamento           100\n",
       "dependenciaAdministrativa       100\n",
       "idebAI                          100\n",
       "idebAF                          100\n",
       "enemMediaGeral                  100\n",
       "situacaoFuncionamentoTxt        100\n",
       "dependenciaAdministrativaTxt    100\n",
       "dtype: int64"
      ]
     },
     "execution_count": 8,
     "metadata": {},
     "output_type": "execute_result"
    }
   ],
   "source": [
    "# Quantidade de linhas em cada coluna\n",
    "df.count()"
   ]
  },
  {
   "cell_type": "code",
   "execution_count": 9,
   "id": "b0ef5015",
   "metadata": {},
   "outputs": [
    {
     "name": "stdout",
     "output_type": "stream",
     "text": [
      "<class 'pandas.core.frame.DataFrame'>\n",
      "RangeIndex: 100 entries, 0 to 99\n",
      "Data columns (total 14 columns):\n",
      " #   Column                        Non-Null Count  Dtype  \n",
      "---  ------                        --------------  -----  \n",
      " 0   anoCenso                      100 non-null    int64  \n",
      " 1   cod                           100 non-null    int64  \n",
      " 2   nome                          100 non-null    object \n",
      " 3   codCidade                     100 non-null    int64  \n",
      " 4   cidade                        100 non-null    object \n",
      " 5   estado                        100 non-null    object \n",
      " 6   regiao                        100 non-null    object \n",
      " 7   situacaoFuncionamento         100 non-null    int64  \n",
      " 8   dependenciaAdministrativa     100 non-null    int64  \n",
      " 9   idebAI                        100 non-null    float64\n",
      " 10  idebAF                        100 non-null    float64\n",
      " 11  enemMediaGeral                100 non-null    float64\n",
      " 12  situacaoFuncionamentoTxt      100 non-null    object \n",
      " 13  dependenciaAdministrativaTxt  100 non-null    object \n",
      "dtypes: float64(3), int64(5), object(6)\n",
      "memory usage: 11.1+ KB\n"
     ]
    }
   ],
   "source": [
    "# Informações das colunas\n",
    "df.info()"
   ]
  },
  {
   "cell_type": "code",
   "execution_count": 10,
   "id": "a7214e0f",
   "metadata": {},
   "outputs": [
    {
     "data": {
      "text/plain": [
       "PA    98\n",
       "PR     1\n",
       "MA     1\n",
       "Name: estado, dtype: int64"
      ]
     },
     "execution_count": 10,
     "metadata": {},
     "output_type": "execute_result"
    }
   ],
   "source": [
    "# Em quais estados estão as escolas?\n",
    "df['estado'].value_counts()"
   ]
  },
  {
   "cell_type": "code",
   "execution_count": 11,
   "id": "12912aea",
   "metadata": {},
   "outputs": [
    {
     "data": {
      "text/plain": [
       "Municipal    100\n",
       "Name: dependenciaAdministrativaTxt, dtype: int64"
      ]
     },
     "execution_count": 11,
     "metadata": {},
     "output_type": "execute_result"
    }
   ],
   "source": [
    "# São todas escolas munícipais?\n",
    "df['dependenciaAdministrativaTxt'].value_counts()"
   ]
  }
 ],
 "metadata": {
  "kernelspec": {
   "display_name": "Python 3 (ipykernel)",
   "language": "python",
   "name": "python3"
  },
  "language_info": {
   "codemirror_mode": {
    "name": "ipython",
    "version": 3
   },
   "file_extension": ".py",
   "mimetype": "text/x-python",
   "name": "python",
   "nbconvert_exporter": "python",
   "pygments_lexer": "ipython3",
   "version": "3.9.7"
  }
 },
 "nbformat": 4,
 "nbformat_minor": 5
}
